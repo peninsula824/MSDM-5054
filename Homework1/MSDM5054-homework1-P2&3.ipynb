{
 "cells": [
  {
   "cell_type": "markdown",
   "id": "c46b8006-75e1-48ee-96d5-2c6735595de8",
   "metadata": {},
   "source": [
    "## Problem 2: Investigation of Life Expectancy "
   ]
  },
  {
   "cell_type": "markdown",
   "id": "f37a0a22-a287-4220-97d2-7783376234ca",
   "metadata": {},
   "source": [
    "### 1. Report the summary of the linear model. What are the predicting variables actually affecting the life expectancy? Justify your answer based on the outputs of linear regression model."
   ]
  },
  {
   "cell_type": "code",
   "execution_count": null,
   "id": "8858a03a-3228-43a1-bc13-73d88c080e27",
   "metadata": {
    "tags": []
   },
   "outputs": [
    {
     "name": "stdout",
     "output_type": "stream",
     "text": [
      "                            OLS Regression Results                            \n",
      "==============================================================================\n",
      "Dep. Variable:        Life expectancy   R-squared:                       0.820\n",
      "Model:                            OLS   Adj. R-squared:                  0.819\n",
      "Method:                 Least Squares   F-statistic:                     664.0\n",
      "Date:                Wed, 24 Sep 2025   Prob (F-statistic):               0.00\n",
      "Time:                        14:34:31   Log-Likelihood:                -8239.5\n",
      "No. Observations:                2928   AIC:                         1.652e+04\n",
      "Df Residuals:                    2907   BIC:                         1.665e+04\n",
      "Df Model:                          20                                         \n",
      "Covariance Type:            nonrobust                                         \n",
      "===================================================================================================\n",
      "                                      coef    std err          t      P>|t|      [0.025      0.975]\n",
      "---------------------------------------------------------------------------------------------------\n",
      "const                              74.4478     34.761      2.142      0.032       6.290     142.606\n",
      "Year                               -0.0090      0.017     -0.518      0.604      -0.043       0.025\n",
      "Status                             -1.5832      0.270     -5.860      0.000      -2.113      -1.054\n",
      "Adult Mortality                    -0.0198      0.001    -24.856      0.000      -0.021      -0.018\n",
      "infant deaths                       0.0994      0.008     11.797      0.000       0.083       0.116\n",
      "Alcohol                             0.0609      0.026      2.331      0.020       0.010       0.112\n",
      "percentage expenditure           8.755e-05   8.47e-05      1.033      0.301   -7.85e-05       0.000\n",
      "Hepatitis B                        -0.0140      0.004     -3.569      0.000      -0.022      -0.006\n",
      "Measles                         -1.978e-05   7.66e-06     -2.581      0.010   -3.48e-05   -4.75e-06\n",
      "BMI                                 0.0441      0.005      8.878      0.000       0.034       0.054\n",
      "under-five deaths                  -0.0744      0.006    -12.045      0.000      -0.087      -0.062\n",
      "Polio                               0.0288      0.004      6.437      0.000       0.020       0.038\n",
      "Total expenditure                   0.0560      0.035      1.620      0.105      -0.012       0.124\n",
      "Diphtheria                          0.0404      0.005      8.571      0.000       0.031       0.050\n",
      "HIV/AIDS                           -0.4707      0.018    -26.663      0.000      -0.505      -0.436\n",
      "GDP                              3.291e-05    1.3e-05      2.527      0.012    7.38e-06    5.84e-05\n",
      "Population                       2.712e-10   1.69e-09      0.160      0.873   -3.05e-09    3.59e-09\n",
      "thinness  1-19 years               -0.0817      0.050     -1.622      0.105      -0.181       0.017\n",
      "thinness 5-9 years                  0.0063      0.050      0.127      0.899      -0.091       0.104\n",
      "Income composition of resources     5.6090      0.645      8.689      0.000       4.343       6.875\n",
      "Schooling                           0.6741      0.043     15.814      0.000       0.591       0.758\n",
      "==============================================================================\n",
      "Omnibus:                      135.692   Durbin-Watson:                   0.694\n",
      "Prob(Omnibus):                  0.000   Jarque-Bera (JB):              398.153\n",
      "Skew:                          -0.175   Prob(JB):                     3.49e-87\n",
      "Kurtosis:                       4.772   Cond. No.                     2.57e+10\n",
      "==============================================================================\n",
      "\n",
      "Notes:\n",
      "[1] Standard Errors assume that the covariance matrix of the errors is correctly specified.\n",
      "[2] The condition number is large, 2.57e+10. This might indicate that there are\n",
      "strong multicollinearity or other numerical problems.\n"
     ]
    }
   ],
   "source": [
    "import pandas as pd\n",
    "import statsmodels.api as sm\n",
    "\n",
    "# definition\n",
    "file_path = \"/root/MSDM5054/Life Expectancy Data.csv\"\n",
    "life_exp_df = pd.read_csv(file_path)\n",
    "\n",
    "# Cleanup\n",
    "life_exp_df.columns = life_exp_df.columns.str.strip()\n",
    "\n",
    "# Preprocessing\n",
    "life_exp_df.drop('Country', axis=1, inplace=True)\n",
    "\n",
    "life_exp_df.dropna(subset=['Life expectancy'], inplace=True)\n",
    "\n",
    "life_exp_df['Status'] = life_exp_df['Status'].map({'Developing': 1, 'Developed': 0})\n",
    "\n",
    "# definition\n",
    "target_variable = life_exp_df['Life expectancy']\n",
    "predictor_variables = life_exp_df.drop('Life expectancy', axis=1)\n",
    "\n",
    "# Feature filling\n",
    "predictors_imputed = predictor_variables.apply(lambda col: col.fillna(col.mean()))\n",
    "\n",
    "predictors_with_const = sm.add_constant(predictors_imputed)\n",
    "\n",
    "# （OLS）\n",
    "regression_model = sm.OLS(target_variable, predictors_with_const).fit()\n",
    "\n",
    "print(regression_model.summary())"
   ]
  },
  {
   "cell_type": "markdown",
   "id": "81f7d4fe-2cac-44ae-9e47-4c70ad7509f6",
   "metadata": {},
   "source": [
    "### 2. Construct the 95% confidence intervals for the coefficient of “Adult Mortality” and “HIV/AIDS”. Are you confident that these predictors have negative impact on the life expectancy? Explain why."
   ]
  },
  {
   "cell_type": "code",
   "execution_count": null,
   "id": "cf839f23-65b7-4301-b891-1666d6446e64",
   "metadata": {
    "tags": []
   },
   "outputs": [
    {
     "name": "stdout",
     "output_type": "stream",
     "text": [
      "\n",
      "Analysis of 95% Confidence Intervals:\n",
      "\n",
      "Variable: Adult Mortality\n",
      "  - Confidence Interval: [-0.021350525396991272, -0.018228358141137355]\n",
      "  - Conclusion: Confident that it has a negative impact on life expectancy.\n",
      "\n",
      "Variable: HIV/AIDS\n",
      "  - Confidence Interval: [-0.5053295472183662, -0.4360966923108973]\n",
      "  - Conclusion: Confident that it has a negative impact on life expectancy.\n"
     ]
    }
   ],
   "source": [
    "\n",
    "# definition\n",
    "variables_to_analyze = ['Adult Mortality', 'HIV/AIDS']\n",
    "\n",
    "# Confidence interval\n",
    "confidence_intervals_df = regression_model.conf_int(alpha=0.05)\n",
    "\n",
    "# result\n",
    "analysis_results = {}\n",
    "\n",
    "for var_name in variables_to_analyze:\n",
    "    # Confidence interval\n",
    "    interval = confidence_intervals_df.loc[var_name].tolist()\n",
    "    \n",
    "    # Determining negative impact\n",
    "    is_negative_impact = interval[1] < 0\n",
    "    analysis_results[var_name] = {\n",
    "        'ci': interval,\n",
    "        'has_negative_impact': is_negative_impact\n",
    "    }\n",
    "\n",
    "print(\"\\nAnalysis of 95% Confidence Intervals:\")\n",
    "for var_name, result in analysis_results.items():\n",
    "    print(f\"\\nVariable: {var_name}\")\n",
    "    print(f\"  - Confidence Interval: {result['ci']}\")\n",
    "    if result['has_negative_impact']:\n",
    "        print(f\"  - Conclusion: Confident that it has a negative impact on life expectancy.\")\n",
    "    else:\n",
    "        print(f\"  - Conclusion: Cannot be confident of a negative impact on life expectancy.\")"
   ]
  },
  {
   "cell_type": "markdown",
   "id": "cce87076-7f64-4435-9011-0b3954b2d220",
   "metadata": {},
   "source": [
    "### 3. Construct the 97% confidence intervals for the coefficient of “Schooling” and “Alcohol”. Explain how these predictors impact the life expectancy."
   ]
  },
  {
   "cell_type": "code",
   "execution_count": null,
   "id": "65bec437-7d08-4fa4-a337-1eb3d5aca00e",
   "metadata": {
    "tags": []
   },
   "outputs": [
    {
     "name": "stdout",
     "output_type": "stream",
     "text": [
      "\n",
      "--- Analysis at 97% Confidence Level ---\n",
      "\n",
      "Schooling 97% confidence intervals: [0.58155514 0.76666183]\n",
      "Schooling has positive impact on the life expectancy.\n",
      "\n",
      "Alcohol 97% confidence intervals: [0.00418148 0.11756867]\n",
      "Alcohol has positive impact on the life expectancy.\n"
     ]
    }
   ],
   "source": [
    "alpha = 0.03\n",
    "variables_of_interest = ['Schooling', 'Alcohol']\n",
    "\n",
    "# Calculating confidence intervals\n",
    "ci_dataframe = regression_model.conf_int(alpha=alpha)\n",
    "\n",
    "print(f\"\\n--- Analysis at {(1-alpha)*100:.0f}% Confidence Level ---\")\n",
    "\n",
    "for var in variables_of_interest:\n",
    "    # confidence intervals\n",
    "    interval = ci_dataframe.loc[var]\n",
    "    \n",
    "    # print intervals\n",
    "    print(f\"\\n{var} {(1-alpha)*100:.0f}% confidence intervals:\", interval.values)\n",
    "    \n",
    "    lower_bound, upper_bound = interval\n",
    "    \n",
    "    if lower_bound > 0 and upper_bound > 0:\n",
    "        print(f\"{var} has positive impact on the life expectancy.\")\n",
    "    elif lower_bound < 0 and upper_bound < 0:\n",
    "        print(f\"{var} has negative impact on the life expectancy.\")\n",
    "    else:\n",
    "        print(f\"{var} has no impact on the life expectancy.\")"
   ]
  },
  {
   "cell_type": "markdown",
   "id": "c710a43a-265c-408f-99cd-44b0f74b097d",
   "metadata": {},
   "source": [
    "### 4. Based on the p-values, which are the top-seven most influential predictors? Use these predictors to fit a smaller model and report the summary."
   ]
  },
  {
   "cell_type": "code",
   "execution_count": null,
   "id": "480d65e5-e05f-4061-978d-ea083603d4c0",
   "metadata": {
    "tags": []
   },
   "outputs": [
    {
     "name": "stdout",
     "output_type": "stream",
     "text": [
      "\n",
      "top7_vars: ['HIV/AIDS', 'Adult Mortality', 'Schooling', 'under-five deaths', 'infant deaths', 'BMI', 'Income composition of resources']\n",
      "                            OLS Regression Results                            \n",
      "==============================================================================\n",
      "Dep. Variable:        Life expectancy   R-squared:                       0.791\n",
      "Model:                            OLS   Adj. R-squared:                  0.791\n",
      "Method:                 Least Squares   F-statistic:                     1583.\n",
      "Date:                Wed, 24 Sep 2025   Prob (F-statistic):               0.00\n",
      "Time:                        15:02:24   Log-Likelihood:                -8458.3\n",
      "No. Observations:                2928   AIC:                         1.693e+04\n",
      "Df Residuals:                    2920   BIC:                         1.698e+04\n",
      "Df Model:                           7                                         \n",
      "Covariance Type:            nonrobust                                         \n",
      "===================================================================================================\n",
      "                                      coef    std err          t      P>|t|      [0.025      0.975]\n",
      "---------------------------------------------------------------------------------------------------\n",
      "HIV/AIDS                           -0.4662      0.019    -24.957      0.000      -0.503      -0.430\n",
      "Adult Mortality                    -0.0217      0.001    -25.879      0.000      -0.023      -0.020\n",
      "Schooling                           0.9089      0.043     21.071      0.000       0.824       0.994\n",
      "under-five deaths                  -0.0844      0.006    -13.363      0.000      -0.097      -0.072\n",
      "infant deaths                       0.1099      0.009     12.829      0.000       0.093       0.127\n",
      "BMI                                 0.0595      0.005     12.041      0.000       0.050       0.069\n",
      "Income composition of resources     7.5965      0.670     11.332      0.000       6.282       8.911\n",
      "const                              55.8930      0.425    131.471      0.000      55.059      56.727\n",
      "==============================================================================\n",
      "Omnibus:                      169.578   Durbin-Watson:                   0.620\n",
      "Prob(Omnibus):                  0.000   Jarque-Bera (JB):              700.440\n",
      "Skew:                          -0.045   Prob(JB):                    7.97e-153\n",
      "Kurtosis:                       5.394   Cond. No.                     1.94e+03\n",
      "==============================================================================\n",
      "\n",
      "Notes:\n",
      "[1] Standard Errors assume that the covariance matrix of the errors is correctly specified.\n",
      "[2] The condition number is large, 1.94e+03. This might indicate that there are\n",
      "strong multicollinearity or other numerical problems.\n"
     ]
    }
   ],
   "source": [
    "# The 7 most important predictors\n",
    "top_features_list = (regression_model.pvalues\n",
    "                     .drop('const')\n",
    "                     .sort_values()\n",
    "                     .head(7)\n",
    "                     .index.tolist())\n",
    "\n",
    "print(\"\\ntop7_vars:\", top_features_list)\n",
    "\n",
    "# Building a model\n",
    "X_reduced = predictors_with_const.loc[:, top_features_list + ['const']]\n",
    "\n",
    "# summary\n",
    "print(sm.OLS(target_variable, X_reduced).fit().summary())"
   ]
  },
  {
   "cell_type": "code",
   "execution_count": null,
   "id": "23628f3e-4e6d-4393-9cf1-ad9c8d8a0bc9",
   "metadata": {
    "tags": []
   },
   "outputs": [],
   "source": [
    "reduced_model = sm.OLS(target_variable, X_reduced).fit()"
   ]
  },
  {
   "cell_type": "markdown",
   "id": "2dc7522e-8036-4b36-97e5-faea2836e6ca",
   "metadata": {},
   "source": [
    "### 5. Use the smaller model to predict the life expectancy if a new observation is given with Year=2008, Sta\u0002tus=Developed, Adult Mortality=125, infant deaths=94, Alcohol=4.1, percentage expenditure=100, Hepatitis B=20, Measles=13, BMI=55, under-five deaths=2, Polio=12, Total expenditure=5.9, Diphtheria=12, HIV/AIDS=0.5, GDP=5892,Population=1.34e6, Income composition of resources=0.9, Schooling=18. Report the 99% confidence interval for your prediction."
   ]
  },
  {
   "cell_type": "code",
   "execution_count": null,
   "id": "94ce3331-4b0f-4ad0-aabf-fa9d2e0c3f88",
   "metadata": {
    "tags": []
   },
   "outputs": [
    {
     "name": "stdout",
     "output_type": "stream",
     "text": [
      "\n",
      "Prediction Summary for New Observation (with 99% Intervals):\n",
      "        mean   mean_se  mean_ci_lower  mean_ci_upper  obs_ci_lower  \\\n",
      "0  89.576442  0.794559      87.528455      91.624429     78.167474   \n",
      "\n",
      "   obs_ci_upper  \n",
      "0    100.985409  \n"
     ]
    }
   ],
   "source": [
    "import pandas as pd\n",
    "import numpy as np\n",
    "import statsmodels.api as sm\n",
    "\n",
    "\n",
    "# Training mean\n",
    "training_means = predictor_variables.mean()\n",
    "\n",
    "# definition\n",
    "new_observation = {\n",
    "    'Year': 2008,\n",
    "    'Status': 1,  # (1=Developing, 0=Developed)\n",
    "    'Adult Mortality': 125,\n",
    "    'infant deaths': 94,\n",
    "    'Alcohol': 4.1,\n",
    "    'percentage expenditure': 100,\n",
    "    'Hepatitis B': 20,\n",
    "    'Measles': 13,\n",
    "    'BMI': 55,\n",
    "    'under-five deaths': 2,\n",
    "    'Polio': 12,\n",
    "    'Total expenditure': 5.9,\n",
    "    'Diphtheria': 12,\n",
    "    'HIV/AIDS': 0.5,\n",
    "    'GDP': 5892,\n",
    "    'Population': 1.34e6,\n",
    "    'thinness 1-19 years': np.nan, # Missing Values\n",
    "    'thinness 5-9 years': np.nan,  # Missing Values\n",
    "    'Income composition of resources': 0.9,\n",
    "    'Schooling': 18\n",
    "}\n",
    "\n",
    "# preparation\n",
    "new_obs_df = pd.DataFrame([new_observation])\n",
    "\n",
    "# filling\n",
    "new_obs_df.fillna(training_means, inplace=True)\n",
    "\n",
    "# c. Add a constant term\n",
    "new_obs_df_with_const = sm.add_constant(new_obs_df, has_constant='add')\n",
    "\n",
    "X_new_final = new_obs_df_with_const[top_features_list + ['const']]\n",
    "\n",
    "# prediction \n",
    "prediction = reduced_model.get_prediction(X_new_final)\n",
    "\n",
    "pred_summary = prediction.summary_frame(alpha=0.01)\n",
    "\n",
    "print(\"\\nPrediction Summary for New Observation (with 99% Intervals):\")\n",
    "print(pred_summary)"
   ]
  },
  {
   "cell_type": "markdown",
   "id": "065f3010-8a7a-4358-b811-3602c80aad06",
   "metadata": {},
   "source": [
    "### 6. Use AIC to compare the full model and the smaller model."
   ]
  },
  {
   "cell_type": "code",
   "execution_count": 15,
   "id": "b65a4731-deaa-4c9f-ba0b-8340b87a34db",
   "metadata": {
    "tags": []
   },
   "outputs": [
    {
     "name": "stdout",
     "output_type": "stream",
     "text": [
      "\n",
      "regression_model_aic: 16521.085082746766\n",
      "reduced_model_aic: 16932.62646207667\n",
      "\n",
      "regression_model_aic is lower.\n"
     ]
    }
   ],
   "source": [
    "regression_model_aic = regression_model.aic\n",
    "reduced_model_aic = reduced_model.aic\n",
    "\n",
    "print(\"\\nregression_model_aic:\", regression_model_aic)\n",
    "print(\"reduced_model_aic:\", reduced_model_aic)\n",
    "\n",
    "if reduced_model_aic < regression_model_aic:\n",
    "    print(\"\\nreduced_model_aic is lower.\")\n",
    "else:\n",
    "    print(\"\\nregression_model_aic is lower.\")"
   ]
  },
  {
   "cell_type": "markdown",
   "id": "4a13ac5f-31fb-4399-a250-cb53caa687fe",
   "metadata": {},
   "source": [
    "## Problem 3: Implementing KNN regression"
   ]
  },
  {
   "cell_type": "code",
   "execution_count": null,
   "id": "c0c4f1bd-f792-4b60-b392-676b1ebad3da",
   "metadata": {
    "tags": []
   },
   "outputs": [
    {
     "name": "stdout",
     "output_type": "stream",
     "text": [
      "=== Without Standardization ===\n",
      "K=1: MSE=44.5171, Time=0.0138 seconds\n",
      "K=2: MSE=46.0559, Time=0.0695 seconds\n",
      "K=3: MSE=41.5232, Time=0.0132 seconds\n",
      "K=4: MSE=40.8879, Time=0.0132 seconds\n",
      "K=5: MSE=42.2411, Time=0.0127 seconds\n",
      "K=6: MSE=43.8894, Time=0.0688 seconds\n",
      "K=7: MSE=43.9851, Time=0.0130 seconds\n",
      "K=8: MSE=42.8303, Time=0.0071 seconds\n",
      "K=9: MSE=44.0434, Time=0.0714 seconds\n",
      "K=10: MSE=45.6143, Time=0.0077 seconds\n",
      "K=11: MSE=45.7835, Time=0.0075 seconds\n",
      "K=12: MSE=45.8784, Time=0.0076 seconds\n",
      "K=13: MSE=45.7650, Time=0.0076 seconds\n",
      "K=14: MSE=46.5139, Time=0.0076 seconds\n",
      "K=15: MSE=46.5349, Time=0.0642 seconds\n",
      "K=16: MSE=48.1896, Time=0.0076 seconds\n",
      "K=17: MSE=49.1327, Time=0.0077 seconds\n",
      "K=18: MSE=48.9265, Time=0.0093 seconds\n",
      "K=19: MSE=50.1288, Time=0.0066 seconds\n",
      "K=20: MSE=51.0900, Time=0.0059 seconds\n",
      "Best K (No Standardization): 4 with MSE=40.8879\n",
      "\n",
      "=== With Standardization ===\n",
      "K=1: MSE=25.4693, Time=0.0625 seconds\n",
      "K=2: MSE=16.7776, Time=0.0060 seconds\n",
      "K=3: MSE=19.7349, Time=0.0059 seconds\n",
      "K=4: MSE=20.0199, Time=0.0059 seconds\n",
      "K=5: MSE=21.2268, Time=0.0059 seconds\n",
      "K=6: MSE=22.2554, Time=0.0059 seconds\n",
      "K=7: MSE=21.6547, Time=0.0059 seconds\n",
      "K=8: MSE=20.8683, Time=0.0059 seconds\n",
      "K=9: MSE=21.0368, Time=0.0583 seconds\n",
      "K=10: MSE=20.5081, Time=0.0059 seconds\n",
      "K=11: MSE=20.5842, Time=0.0060 seconds\n",
      "K=12: MSE=20.4433, Time=0.0059 seconds\n",
      "K=13: MSE=20.8555, Time=0.0059 seconds\n",
      "K=14: MSE=21.5664, Time=0.0072 seconds\n",
      "K=15: MSE=21.7233, Time=0.0663 seconds\n",
      "K=16: MSE=22.0933, Time=0.0059 seconds\n",
      "K=17: MSE=22.6631, Time=0.0060 seconds\n",
      "K=18: MSE=23.3725, Time=0.0059 seconds\n",
      "K=19: MSE=24.1986, Time=0.0059 seconds\n",
      "K=20: MSE=24.4539, Time=0.0059 seconds\n",
      "Best K (With Standardization): 2 with MSE=16.7776\n",
      "Standardization improved the performance.\n"
     ]
    }
   ],
   "source": [
    "import numpy as np\n",
    "import pandas as pd\n",
    "import time\n",
    "from math import sqrt\n",
    "\n",
    "class KNN:\n",
    "\n",
    "    def __init__(self, k=5, standardize=False):\n",
    "        self.k = k\n",
    "        self.standardize = standardize\n",
    "        self.X_train = None\n",
    "        self.y_train = None\n",
    "        self.train_mean = None\n",
    "        self.train_std = None\n",
    "\n",
    "    def fit(self, X, y):\n",
    "        self.y_train = y\n",
    "        if self.standardize:\n",
    "            self.train_mean = np.mean(X, axis=0)\n",
    "            self.train_std = np.std(X, axis=0)\n",
    "            self.train_std[self.train_std == 0] = 1 \n",
    "            self.X_train = (X - self.train_mean) / self.train_std\n",
    "        else:\n",
    "            self.X_train = X\n",
    "\n",
    "    def predict(self, X_test):\n",
    "        X_test_processed = X_test\n",
    "        if self.standardize:\n",
    "            X_test_processed = (X_test - self.train_mean) / self.train_std\n",
    "        \n",
    "        predictions = []\n",
    "        for row in X_test_processed:\n",
    "            distances = np.linalg.norm(self.X_train - row, axis=1)\n",
    "            neighbor_indices = np.argsort(distances)[:self.k]\n",
    "            prediction = np.mean(self.y_train[neighbor_indices])\n",
    "            predictions.append(prediction)\n",
    "        return np.array(predictions)\n",
    "\n",
    "def run_knn_evaluations(X_train, y_train, X_test, y_test, k_options, standardize_flag):\n",
    "    print(f\"=== {'With' if standardize_flag else 'Without'} Standardization ===\")\n",
    "    \n",
    "    best_k = -1\n",
    "    best_mse = float('inf')\n",
    "    \n",
    "    for k in k_options:\n",
    "        model = KNN(k=k, standardize=standardize_flag)\n",
    "        model.fit(X_train, y_train)\n",
    "        \n",
    "        start_time = time.time()\n",
    "        y_pred = model.predict(X_test)\n",
    "        run_time = time.time() - start_time\n",
    "        \n",
    "        mse = np.mean((y_test - y_pred)**2)\n",
    "        \n",
    "        if mse < best_mse:\n",
    "            best_mse = mse\n",
    "            best_k = k\n",
    "            \n",
    "        print(f\"K={k}: MSE={mse:.4f}, Time={run_time:.4f} seconds\")\n",
    "        \n",
    "    print(f\"Best K ({'With' if standardize_flag else 'No'} Standardization): {best_k} with MSE={best_mse:.4f}\")\n",
    "    return best_k, best_mse\n",
    "\n",
    "def main():\n",
    "    train_df = pd.read_csv('boston_housing_train.csv')\n",
    "    test_df = pd.read_csv('boston_housing_test.csv')\n",
    "    X_train = train_df.drop('medv', axis=1).values\n",
    "    y_train = train_df['medv'].values\n",
    "    X_test = test_df.drop('medv', axis=1).values\n",
    "    y_test = test_df['medv'].values\n",
    "    \n",
    "    k_values_to_test = list(range(1, 21))\n",
    "    \n",
    "    _, best_mse_raw = run_knn_evaluations(X_train, y_train, X_test, y_test, k_values_to_test, standardize_flag=False)\n",
    "    print()\n",
    "    _, best_mse_std = run_knn_evaluations(X_train, y_train, X_test, y_test, k_values_to_test, standardize_flag=True)\n",
    "    \n",
    "    print(\"Standardization improved the performance.\" if best_mse_std < best_mse_raw else \"Standardization did not improve the performance.\")\n",
    "\n",
    "if __name__ == '__main__':\n",
    "    main()"
   ]
  },
  {
   "cell_type": "code",
   "execution_count": null,
   "id": "f26bc256-984f-40b2-9971-c313ea4c3539",
   "metadata": {},
   "outputs": [],
   "source": []
  }
 ],
 "metadata": {
  "kernelspec": {
   "display_name": "Python 3 (ipykernel)",
   "language": "python",
   "name": "python3"
  },
  "language_info": {
   "codemirror_mode": {
    "name": "ipython",
    "version": 3
   },
   "file_extension": ".py",
   "mimetype": "text/x-python",
   "name": "python",
   "nbconvert_exporter": "python",
   "pygments_lexer": "ipython3",
   "version": "3.8.10"
  }
 },
 "nbformat": 4,
 "nbformat_minor": 5
}
